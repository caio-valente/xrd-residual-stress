{
 "cells": [
  {
   "cell_type": "code",
   "execution_count": 1,
   "metadata": {},
   "outputs": [],
   "source": [
    "import numpy as np\n",
    "import pandas as pd"
   ]
  },
  {
   "cell_type": "code",
   "execution_count": 2,
   "metadata": {},
   "outputs": [],
   "source": [
    "E = 2.1e11\n",
    "v = 0.29\n",
    "dn = 1.17411e-10\n",
    "di = 1.17563e-10\n",
    "psi_i = 0.7854"
   ]
  },
  {
   "cell_type": "code",
   "execution_count": 3,
   "metadata": {},
   "outputs": [],
   "source": [
    "sigma_phi = (E/((1+v)*(np.sin(psi_i)**2))) * ((di-dn)/dn )"
   ]
  },
  {
   "cell_type": "code",
   "execution_count": 4,
   "metadata": {},
   "outputs": [
    {
     "data": {
      "text/plain": [
       "421.4953480743183"
      ]
     },
     "execution_count": 4,
     "metadata": {},
     "output_type": "execute_result"
    }
   ],
   "source": [
    "sigma_phi * 1e-6"
   ]
  },
  {
   "cell_type": "code",
   "execution_count": 5,
   "metadata": {},
   "outputs": [],
   "source": [
    "import plotly.express as px\n",
    "import plotly.graph_objects as go\n",
    "import plotly.io as pio\n",
    "from plotly.subplots import make_subplots\n",
    "\n",
    "import pandas as pd\n",
    "pd.options.plotting.backend = \"plotly\"\n",
    "import numpy as np\n",
    "from ipywidgets import interact, widgets\n",
    "from pathlib import Path\n",
    "import os\n",
    "\n",
    "p = Path()\n",
    "p = p/'src'/'difr'"
   ]
  },
  {
   "cell_type": "code",
   "execution_count": 6,
   "metadata": {},
   "outputs": [],
   "source": [
    "filenames = [file for file in os.listdir(p)]\n",
    "frames = dict()\n",
    "for filename in filenames:\n",
    "        filepath = p/filename\n",
    "        try:\n",
    "            frames[filepath.name] = pd.read_csv(\n",
    "                filepath,\n",
    "                skiprows=33,\n",
    "                delim_whitespace = True,\n",
    "                names=['2Theta','I'],\n",
    "                engine='python'\n",
    "            )\n",
    "        except FileNotFoundError:\n",
    "            pass"
   ]
  },
  {
   "cell_type": "code",
   "execution_count": 7,
   "metadata": {},
   "outputs": [
    {
     "data": {
      "application/vnd.jupyter.widget-view+json": {
       "model_id": "545eb392d16d4c44a2014e81ebc5c277",
       "version_major": 2,
       "version_minor": 0
      },
      "text/plain": [
       "interactive(children=(Dropdown(description='key', options=('PDF04_Grupo1440_2Pts_.txt', 'PDF04_Grupo1440_2Pts_…"
      ]
     },
     "metadata": {},
     "output_type": "display_data"
    },
    {
     "data": {
      "text/plain": [
       "<function __main__.<lambda>(key)>"
      ]
     },
     "execution_count": 7,
     "metadata": {},
     "output_type": "execute_result"
    }
   ],
   "source": [
    "interact(lambda key: frames[key].plot(x = '2Theta', y = 'I'), key = list(frames.keys()))"
   ]
  },
  {
   "cell_type": "code",
   "execution_count": 8,
   "metadata": {},
   "outputs": [],
   "source": [
    "def fit_curve(key, degree):\n",
    "    df = frames[key]\n",
    "    fit = np.polyfit(df['2Theta'], df['I'], degree)\n",
    "    return fit"
   ]
  },
  {
   "cell_type": "code",
   "execution_count": 9,
   "metadata": {},
   "outputs": [],
   "source": [
    "def calc_curve(key, deg):\n",
    "    x = np.linspace(152,160,80)\n",
    "    y = 0\n",
    "    for i, parameter in enumerate(fit_curve(key, deg)):\n",
    "        y += parameter * x**(deg-i)\n",
    "    return x, y"
   ]
  },
  {
   "cell_type": "code",
   "execution_count": 10,
   "metadata": {},
   "outputs": [],
   "source": [
    "def plot_curve(key, deg):\n",
    "    df = frames[key]\n",
    "    fig = go.Figure()\n",
    "    fig.add_traces(go.Scatter(x = df['2Theta'], y = df['I'], name = 'Data', mode = 'markers+lines'))\n",
    "    fig.add_traces(go.Scatter(x = calc_curve(key, deg)[0], y = calc_curve(key, deg)[1], name = 'Fit', mode = 'lines'))\n",
    "    max_index = np.argmax(calc_curve(key, deg)[1])\n",
    "    angle_max = calc_curve(key, deg)[0][max_index]\n",
    "    fig.add_vline(\n",
    "        x = angle_max,\n",
    "        annotation_text='Máx = {:.2f} deg'.format(angle_max),\n",
    "        annotation_position=\"top right\"\n",
    "    )\n",
    "    return fig "
   ]
  },
  {
   "cell_type": "code",
   "execution_count": 11,
   "metadata": {},
   "outputs": [
    {
     "data": {
      "application/vnd.jupyter.widget-view+json": {
       "model_id": "405d61f8eaaa4c0c8c7e1a54527cbdf1",
       "version_major": 2,
       "version_minor": 0
      },
      "text/plain": [
       "interactive(children=(Dropdown(description='key', options=('PDF04_Grupo1440_2Pts_.txt', 'PDF04_Grupo1440_2Pts_…"
      ]
     },
     "metadata": {},
     "output_type": "display_data"
    },
    {
     "data": {
      "text/plain": [
       "<function __main__.plot_curve(key, deg)>"
      ]
     },
     "execution_count": 11,
     "metadata": {},
     "output_type": "execute_result"
    }
   ],
   "source": [
    "interact(plot_curve, key = list(frames.keys()), deg = int(6))"
   ]
  },
  {
   "cell_type": "code",
   "execution_count": null,
   "metadata": {},
   "outputs": [],
   "source": []
  }
 ],
 "metadata": {
  "kernelspec": {
   "display_name": "Python 3",
   "language": "python",
   "name": "python3"
  },
  "language_info": {
   "codemirror_mode": {
    "name": "ipython",
    "version": 3
   },
   "file_extension": ".py",
   "mimetype": "text/x-python",
   "name": "python",
   "nbconvert_exporter": "python",
   "pygments_lexer": "ipython3",
   "version": "3.7.6"
  }
 },
 "nbformat": 4,
 "nbformat_minor": 4
}
